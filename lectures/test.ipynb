{
 "cells": [
  {
   "cell_type": "markdown",
   "id": "seven-schema",
   "metadata": {},
   "source": [
    "Δημιουργήστε εαν pandas' DataFrame με τα δεδομένα του αρχείου dataset.csv που περιέχει δεδομένα για δύο χρονολογικές σειρές (X_t,Y_t)"
   ]
  },
  {
   "cell_type": "code",
   "execution_count": null,
   "id": "cross-advice",
   "metadata": {},
   "outputs": [],
   "source": []
  },
  {
   "cell_type": "markdown",
   "id": "professional-oxygen",
   "metadata": {},
   "source": [
    "Υπολογίστε την γραμμική συσχέτιση των δύο μεταβλητών"
   ]
  },
  {
   "cell_type": "code",
   "execution_count": null,
   "id": "polish-residence",
   "metadata": {},
   "outputs": [],
   "source": []
  },
  {
   "cell_type": "markdown",
   "id": "composite-peninsula",
   "metadata": {},
   "source": [
    "Δημιουργήστε τα διαγράμματα Box-and-Whiskers για τις δύο μεταβλητές"
   ]
  },
  {
   "cell_type": "code",
   "execution_count": null,
   "id": "indirect-provision",
   "metadata": {},
   "outputs": [],
   "source": []
  },
  {
   "cell_type": "markdown",
   "id": "sealed-concrete",
   "metadata": {},
   "source": [
    "Επεκτείνεται το DataFrame ετσι ώστε να περιέχει και την μεταβλητή Z_t = X_t - Y_t"
   ]
  },
  {
   "cell_type": "code",
   "execution_count": null,
   "id": "cultural-baker",
   "metadata": {},
   "outputs": [],
   "source": []
  },
  {
   "cell_type": "markdown",
   "id": "typical-tenant",
   "metadata": {},
   "source": [
    "Υποθέτοντας εποχική συνιστώσα για την Z_t με περίοδο 4, απαλείψτε την εποχική συνιστώσα και αποθηκευστε το αποτέλεσμα"
   ]
  },
  {
   "cell_type": "code",
   "execution_count": null,
   "id": "second-heritage",
   "metadata": {},
   "outputs": [],
   "source": []
  },
  {
   "cell_type": "markdown",
   "id": "inclusive-sensitivity",
   "metadata": {},
   "source": [
    "Εμφανίστε την γραφική παράσταση της W_t"
   ]
  },
  {
   "cell_type": "code",
   "execution_count": null,
   "id": "abroad-machinery",
   "metadata": {},
   "outputs": [],
   "source": []
  }
 ],
 "metadata": {
  "kernelspec": {
   "display_name": "Python 3",
   "language": "python",
   "name": "python3"
  },
  "language_info": {
   "codemirror_mode": {
    "name": "ipython",
    "version": 3
   },
   "file_extension": ".py",
   "mimetype": "text/x-python",
   "name": "python",
   "nbconvert_exporter": "python",
   "pygments_lexer": "ipython3",
   "version": "3.7.16"
  }
 },
 "nbformat": 4,
 "nbformat_minor": 5
}
