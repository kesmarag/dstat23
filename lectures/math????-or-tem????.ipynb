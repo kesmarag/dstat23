{
 "cells": [
  {
   "cell_type": "markdown",
   "id": "lovely-geology",
   "metadata": {},
   "source": [
    "Εκτελέστε τις εντολές"
   ]
  },
  {
   "cell_type": "code",
   "execution_count": null,
   "id": "further-stamp",
   "metadata": {},
   "outputs": [],
   "source": [
    "import pandas as pd\n",
    "import numpy as np\n",
    "import socket\n",
    "x0 = np.random.randn(1024)\n",
    "x1 = np.random.randn(1024) + 0.5*x0\n",
    "x2 = np.random.randn(1024)*x1\n",
    "df = pd.DataFrame()\n",
    "df['Χ1'] = x0\n",
    "df['Χ2'] = x1\n",
    "df['Χ3'] = x2\n",
    "df.to_csv('final.csv', header=True, index=False)\n",
    "print(socket.gethostname())"
   ]
  },
  {
   "cell_type": "markdown",
   "id": "seven-schema",
   "metadata": {},
   "source": [
    "Δημιουργήστε ενα pandas' DataFrame με τα δεδομένα του αρχείου final.csv που περιέχει δεδομένα για τρεις μεταβλητές (X1,Χ2,Χ3)"
   ]
  },
  {
   "cell_type": "code",
   "execution_count": null,
   "id": "cross-advice",
   "metadata": {},
   "outputs": [],
   "source": []
  },
  {
   "cell_type": "markdown",
   "id": "sealed-concrete",
   "metadata": {},
   "source": [
    "Επεκτείνεται το DataFrame ετσι ώστε να περιέχει και την μεταβλητή Υ = Χ1*Χ2 + Χ3"
   ]
  },
  {
   "cell_type": "code",
   "execution_count": null,
   "id": "cultural-baker",
   "metadata": {},
   "outputs": [],
   "source": []
  },
  {
   "cell_type": "markdown",
   "id": "typical-tenant",
   "metadata": {},
   "source": [
    "Για τις μεταβλητές Υ και Χ1 υπολογίστε μεσή τιμή και διασπόρα"
   ]
  },
  {
   "cell_type": "code",
   "execution_count": null,
   "id": "second-heritage",
   "metadata": {},
   "outputs": [],
   "source": []
  },
  {
   "cell_type": "markdown",
   "id": "built-acrylic",
   "metadata": {},
   "source": [
    "Εφαρμόστε ένα μοντέλο απλής γραμμικής παλινδρόμησης για X1 : ανεξάρτητη μεταβλητή και Υ : εξαρτημένη μεταβλητή και εκτιμήστε το y για x1=10. Πιστεύεται οτι είναι καλή η εκτίμηση; δικαιολογήστε."
   ]
  },
  {
   "cell_type": "code",
   "execution_count": null,
   "id": "hairy-isolation",
   "metadata": {},
   "outputs": [],
   "source": []
  },
  {
   "cell_type": "markdown",
   "id": "starting-michigan",
   "metadata": {},
   "source": [
    "δικαιολογήστε εδώ...."
   ]
  },
  {
   "cell_type": "markdown",
   "id": "cathedral-hanging",
   "metadata": {},
   "source": [
    "Ονομάστε το αρχείο math???? η tem???? και στείλτε το μαζί με το final.csv στο kesmarag@uoc.gr με θέμα το ονομά σας."
   ]
  }
 ],
 "metadata": {
  "kernelspec": {
   "display_name": "Python 3",
   "language": "python",
   "name": "python3"
  },
  "language_info": {
   "codemirror_mode": {
    "name": "ipython",
    "version": 3
   },
   "file_extension": ".py",
   "mimetype": "text/x-python",
   "name": "python",
   "nbconvert_exporter": "python",
   "pygments_lexer": "ipython3",
   "version": "3.7.9"
  }
 },
 "nbformat": 4,
 "nbformat_minor": 5
}
